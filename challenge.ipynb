{
 "cells": [
  {
   "cell_type": "code",
   "execution_count": 2,
   "metadata": {},
   "outputs": [],
   "source": [
    "# make all necessary imports here\n",
    "import pandas as pd"
   ]
  },
  {
   "cell_type": "code",
   "execution_count": 3,
   "metadata": {},
   "outputs": [],
   "source": [
    "SUM_INTERVALS = [(-7,0), (-14,0), (-30,0)]"
   ]
  },
  {
   "cell_type": "markdown",
   "metadata": {},
   "source": [
    "## Generate some random data\n",
    "\n",
    "This function helps you generate some random test data. Call this for your testing/developement purposes. Please don't call this in your final submission as it will slow down our autmatic tests."
   ]
  },
  {
   "cell_type": "code",
   "execution_count": 4,
   "metadata": {},
   "outputs": [],
   "source": [
    "from challenge import generate_data"
   ]
  },
  {
   "cell_type": "code",
   "execution_count": 5,
   "metadata": {},
   "outputs": [],
   "source": [
    "generate_data??"
   ]
  },
  {
   "cell_type": "code",
   "execution_count": 6,
   "metadata": {},
   "outputs": [
    {
     "name": "stderr",
     "output_type": "stream",
     "text": [
      "100%|██████████| 32/32 [00:07<00:00,  4.05it/s]\n"
     ]
    }
   ],
   "source": [
    "generate_data()"
   ]
  },
  {
   "cell_type": "markdown",
   "metadata": {},
   "source": [
    "# Challenge\n",
    "The `SUM_INTERVAL` variable contains relative time intervals in days.\n",
    "So the first means 7 days back until today (asof time writing this 2016-02-01).\n",
    "\n",
    "The generated files contain 1000 distinct users which made visits over the timespan of one month.\n",
    "Each visit has a value for `feature a`, as awell as `feature_b` assigned to it.\n",
    "\n",
    "**For each user calculate the sum of it's respective features for each time interval.\n",
    "The final output should be a dataframe or numpy matrix containing one row per user,\n",
    "an id column an the feature columns (N_users, 1 + N_intervals*N_features)**\n",
    "\n",
    "### Note\n",
    "The feature columns are expected to be in descending order (in terms of days included, so\n",
    "30 days feature A as the first column and 30 days feature B is second and so on). \n",
    "The resulting matrix should be ordered by the user ids.\n",
    "\n",
    "When the relative interval `(-7, 0)` is given with the date `2017-02-01` the semantics \n",
    "are to include features values within following time interval: \n",
    "`[2016-01-25 00:00:00; 2016-02-01 00:00:00)`\n",
    "\n",
    "*You are encouraged to use the pandas library for this task but it is not required.*"
   ]
  },
  {
   "cell_type": "code",
   "execution_count": 5,
   "metadata": {},
   "outputs": [
    {
     "data": {
      "text/html": [
       "<div>\n",
       "<style scoped>\n",
       "    .dataframe tbody tr th:only-of-type {\n",
       "        vertical-align: middle;\n",
       "    }\n",
       "\n",
       "    .dataframe tbody tr th {\n",
       "        vertical-align: top;\n",
       "    }\n",
       "\n",
       "    .dataframe thead th {\n",
       "        text-align: right;\n",
       "    }\n",
       "</style>\n",
       "<table border=\"1\" class=\"dataframe\">\n",
       "  <thead>\n",
       "    <tr style=\"text-align: right;\">\n",
       "      <th></th>\n",
       "      <th>id</th>\n",
       "      <th>feature_a_7</th>\n",
       "      <th>feature_b_7</th>\n",
       "      <th>feature_a_14</th>\n",
       "      <th>feature_b_14</th>\n",
       "      <th>feature_a_30</th>\n",
       "      <th>feature_b_30</th>\n",
       "    </tr>\n",
       "  </thead>\n",
       "  <tbody>\n",
       "    <tr>\n",
       "      <th>0</th>\n",
       "      <td>0092505e-4843-40ba-81f7-f8c6791d33c5</td>\n",
       "      <td>3746</td>\n",
       "      <td>34.723856</td>\n",
       "      <td>2483</td>\n",
       "      <td>25.919248</td>\n",
       "      <td>257.0</td>\n",
       "      <td>3.741570</td>\n",
       "    </tr>\n",
       "    <tr>\n",
       "      <th>1</th>\n",
       "      <td>017066dd-d682-46fa-b291-98ee96afc70c</td>\n",
       "      <td>4910</td>\n",
       "      <td>44.706509</td>\n",
       "      <td>3678</td>\n",
       "      <td>33.896826</td>\n",
       "      <td>205.0</td>\n",
       "      <td>1.837862</td>\n",
       "    </tr>\n",
       "    <tr>\n",
       "      <th>2</th>\n",
       "      <td>019136f7-c04a-4e5d-85c8-d861dce5780a</td>\n",
       "      <td>3892</td>\n",
       "      <td>33.182412</td>\n",
       "      <td>2809</td>\n",
       "      <td>21.631453</td>\n",
       "      <td>120.0</td>\n",
       "      <td>0.974517</td>\n",
       "    </tr>\n",
       "    <tr>\n",
       "      <th>3</th>\n",
       "      <td>01add7e9-5c50-4952-872e-4b4b863d8290</td>\n",
       "      <td>3692</td>\n",
       "      <td>40.812955</td>\n",
       "      <td>3019</td>\n",
       "      <td>29.810611</td>\n",
       "      <td>38.0</td>\n",
       "      <td>0.808364</td>\n",
       "    </tr>\n",
       "    <tr>\n",
       "      <th>4</th>\n",
       "      <td>01b01b82-31b0-4d9b-8ce3-2177f83d7eef</td>\n",
       "      <td>4211</td>\n",
       "      <td>45.030768</td>\n",
       "      <td>3071</td>\n",
       "      <td>34.234082</td>\n",
       "      <td>362.0</td>\n",
       "      <td>4.047624</td>\n",
       "    </tr>\n",
       "  </tbody>\n",
       "</table>\n",
       "</div>"
      ],
      "text/plain": [
       "                                     id  feature_a_7  feature_b_7  \\\n",
       "0  0092505e-4843-40ba-81f7-f8c6791d33c5         3746    34.723856   \n",
       "1  017066dd-d682-46fa-b291-98ee96afc70c         4910    44.706509   \n",
       "2  019136f7-c04a-4e5d-85c8-d861dce5780a         3892    33.182412   \n",
       "3  01add7e9-5c50-4952-872e-4b4b863d8290         3692    40.812955   \n",
       "4  01b01b82-31b0-4d9b-8ce3-2177f83d7eef         4211    45.030768   \n",
       "\n",
       "   feature_a_14  feature_b_14  feature_a_30  feature_b_30  \n",
       "0          2483     25.919248         257.0      3.741570  \n",
       "1          3678     33.896826         205.0      1.837862  \n",
       "2          2809     21.631453         120.0      0.974517  \n",
       "3          3019     29.810611          38.0      0.808364  \n",
       "4          3071     34.234082         362.0      4.047624  "
      ]
     },
     "execution_count": 5,
     "metadata": {},
     "output_type": "execute_result"
    }
   ],
   "source": [
    "import dask.dataframe as dd\n",
    "import numpy as np\n",
    "\n",
    "def bin_sum_features(csv_glob=\"data/shard-*.csv.gz\", today=pd.Timestamp('2016-02-01')):\n",
    "    \"\"\"Calculate sum of feature for each time interval using Dask\"\"\"\n",
    "    \n",
    "    dfs = []\n",
    "    \n",
    "    if not SUM_INTERVALS:\n",
    "        return None\n",
    "    \n",
    "    df = dd.read_csv(csv_glob, parse_dates=['timestamp'], compression='gzip', blocksize=None)\n",
    "\n",
    "    for interval in SUM_INTERVALS:\n",
    "\n",
    "        days_before = interval[0]\n",
    "        days_after = interval[1]\n",
    "        start_day = today + pd.Timedelta(f\"{days_before} days\")\n",
    "        end_day = today + pd.Timedelta(f\"{days_after} days\")\n",
    "\n",
    "        if start_day > end_day:\n",
    "            raise ValueError(\"Wrong day interval\")\n",
    "\n",
    "        mask = (df['timestamp'] >= start_day) & (df['timestamp'] <= end_day)\n",
    "\n",
    "        interval_data = df.mask(mask, other=None)\n",
    "        aggregate = interval_data.groupby('id').sum()\n",
    "        \n",
    "        days = abs(days_before)\n",
    "        aggregate = aggregate.rename(columns={\"feature_a\": f\"feature_a_{days}\", \"feature_b\": f\"feature_b_{days}\"})\n",
    "        \n",
    "        dfs.append(aggregate)\n",
    "        \n",
    "    df_aggregate = dfs[0]\n",
    "    \n",
    "    for frame in dfs[1:]:\n",
    "        df_aggregate = df_aggregate.merge(frame, how='outer')\n",
    "        \n",
    "    return df_aggregate.reset_index()\n",
    "\n",
    "\n",
    "bin_sum_features().compute().head()\n",
    "\n"
   ]
  },
  {
   "cell_type": "markdown",
   "metadata": {},
   "source": [
    "## Result shape example\n",
    "below you see how the results could look like with pandas"
   ]
  },
  {
   "cell_type": "code",
   "execution_count": 7,
   "metadata": {},
   "outputs": [
    {
     "data": {
      "text/html": [
       "<div>\n",
       "<style>\n",
       "    .dataframe thead tr:only-child th {\n",
       "        text-align: right;\n",
       "    }\n",
       "\n",
       "    .dataframe thead th {\n",
       "        text-align: left;\n",
       "    }\n",
       "\n",
       "    .dataframe tbody tr th {\n",
       "        vertical-align: top;\n",
       "    }\n",
       "</style>\n",
       "<table border=\"1\" class=\"dataframe\">\n",
       "  <thead>\n",
       "    <tr style=\"text-align: right;\">\n",
       "      <th></th>\n",
       "      <th>id</th>\n",
       "      <th>feature_a_7</th>\n",
       "      <th>feature_a_14</th>\n",
       "      <th>feature_a_30</th>\n",
       "      <th>feature_b_7</th>\n",
       "      <th>feature_b_14</th>\n",
       "      <th>feature_b_30</th>\n",
       "    </tr>\n",
       "  </thead>\n",
       "  <tbody>\n",
       "    <tr>\n",
       "      <th>0</th>\n",
       "      <td>1aa9204b-5956-41a3-96b6-58cbf6bc147e</td>\n",
       "      <td>1</td>\n",
       "      <td>2</td>\n",
       "      <td>3</td>\n",
       "      <td>4</td>\n",
       "      <td>5</td>\n",
       "      <td>6</td>\n",
       "    </tr>\n",
       "  </tbody>\n",
       "</table>\n",
       "</div>"
      ],
      "text/plain": [
       "                                     id  feature_a_7  feature_a_14  \\\n",
       "0  1aa9204b-5956-41a3-96b6-58cbf6bc147e            1             2   \n",
       "\n",
       "   feature_a_30  feature_b_7  feature_b_14  feature_b_30  \n",
       "0             3            4             5             6  "
      ]
     },
     "execution_count": 7,
     "metadata": {},
     "output_type": "execute_result"
    }
   ],
   "source": [
    "pd.DataFrame([['1aa9204b-5956-41a3-96b6-58cbf6bc147e',1,2,3,4,5,6]], \n",
    "             columns=['id', 'feature_a_7', 'feature_a_14', 'feature_a_30', \n",
    "                      'feature_b_7', 'feature_b_14', 'feature_b_30'])"
   ]
  },
  {
   "cell_type": "code",
   "execution_count": null,
   "metadata": {
    "collapsed": true
   },
   "outputs": [],
   "source": []
  }
 ],
 "metadata": {
  "kernelspec": {
   "display_name": "Python 3",
   "language": "python",
   "name": "python3"
  },
  "language_info": {
   "codemirror_mode": {
    "name": "ipython",
    "version": 3
   },
   "file_extension": ".py",
   "mimetype": "text/x-python",
   "name": "python",
   "nbconvert_exporter": "python",
   "pygments_lexer": "ipython3",
   "version": "3.7.5"
  }
 },
 "nbformat": 4,
 "nbformat_minor": 2
}
